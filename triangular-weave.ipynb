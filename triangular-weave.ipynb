{
 "cells": [
  {
   "cell_type": "code",
   "execution_count": 9,
   "metadata": {},
   "outputs": [],
   "source": [
    "%matplotlib inline\n",
    "\n",
    "import geopandas\n",
    "from shapely.geometry import Polygon\n",
    "from shapely.geometry import box\n",
    "from shapely.affinity import translate\n",
    "from shapely.affinity import rotate\n",
    "from shapely.ops import unary_union\n",
    "\n",
    "from copy import deepcopy\n",
    "import math"
   ]
  },
  {
   "cell_type": "markdown",
   "metadata": {},
   "source": [
    "# Triangular weave\n",
    "This code will make a diamond shaped unit that can be tiled to make a triangular weave pattern."
   ]
  },
  {
   "cell_type": "code",
   "execution_count": 71,
   "metadata": {},
   "outputs": [],
   "source": [
    "class Triangular_Weave():\n",
    "    \n",
    "    self.translations = {\n",
    "        \"e\": (1, 0), \n",
    "        \"ne\": (0.5, math.sqrt(3) / 2),\n",
    "        \"se\": (0.5, -math.sqrt(3) / 2)\n",
    "    }\n",
    "\n",
    "    \"\"\"\n",
    "    Class to store the properties of a triangular weave tile that can be repeated in a diamond\n",
    "    pattern.\n",
    "\n",
    "    Members\n",
    "    -------\n",
    "        w_ew: width of the horizontal ribbons\n",
    "        s_ew\n",
    "        w_swne: width of the upward left to right ribbons\n",
    "        s_swne\n",
    "        w_nwse: width of the downward left to right ribbons\n",
    "        s_nwse \n",
    "        shapes: a list of rectangular shapely.geometry.Polygons forming the weave\n",
    "        labels: a list of labels in the same order as the shapes\n",
    "        tile_box: a diamond Polygon that exactly contains the primitive cell\n",
    "        margin: inset margin on the shapes in the weave\n",
    "    \"\"\"\n",
    "    def __init__(self, \n",
    "                 w_ew=1, s_ew=3, \n",
    "                 w_swne=1, s_swne=3, \n",
    "                 w_nwse=1, s_nwse=3, \n",
    "                 labels_ew=[\"ew1\"], labels_swne =[\"swne1\"], labels_nwse = [\"nwse1\"], \n",
    "                 margin = 0):\n",
    "        \"\"\"\n",
    "        Class constructor, parameters as above except:\n",
    "        labelsh: labels of the horizontal ribbons\n",
    "        labelsv: labels of the vertical ribbons\n",
    "        \"\"\"\n",
    "        self.w_ew = w_ew\n",
    "        self.s_ew = s_ew\n",
    "        self.w_swne = w_swne\n",
    "        self.s_swne = s_swne\n",
    "        self.w_nwse = w_nwse\n",
    "        self.s_nwse = s_nwse\n",
    "        self.tile_box = self.get_tile_box(labels_ew, labels_swne, labels_nwse)\n",
    "        self.shapes, self.labels = self.get_shapes_and_labels(labels_ew, labels_swne, labels_nwse, margin)\n",
    "        \n",
    "    \n",
    "    def get_shapes_and_labels(self, labels_ew, labels_swne, labels_nwse, m):\n",
    "        \"\"\"\n",
    "        Returns the list of shapes and labels\n",
    "        \"\"\"\n",
    "        W = math.sqrt(3) / 2\n",
    "        \n",
    "        # length of the ribbons calculated from \n",
    "        # the spacing and width of other directions\n",
    "        l_ew = self.s_nwse - self.w_nwse\n",
    "        l_swne = self.s_ew - self.w_ew\n",
    "        l_nwse = self.s_swne - self.w_swne\n",
    "        \n",
    "        # base parallelograms\n",
    "        base_ew = Polygon([(0, 0), (l_ew, 0), (l_ew - l_ew / 4, self.w_ew * W), (-l_ew / 4, self.w_ew * W)])\n",
    "        base_swne = rotate(deepcopy(base_ew), -120, (0, 0))\n",
    "        base_nwse = rotate(deepcopy(base_ew), 120, (0, 0))\n",
    "        base_ew_2 = translate(deepcopy(base_ew), -3 * l_ew / 4, -self.s_ew * W)\n",
    "        base_nwse_2 = translate(deepcopy(base_nwse), 3 * l_ew / 4, -self.s_ew * W)\n",
    "        \n",
    "        shps = [base_ew, base_swne, base_nwse, base_ew_2, base_nwse_2]\n",
    "        lbls = [labels_ew[0], labels_swne[0], labels_nwse[0], labels_ew[0], labels_nwse[0]]\n",
    "        shapes = []\n",
    "        labels = []\n",
    "        for p, l in zip(shps, lbls):\n",
    "            if self.tile_box.intersects(p):\n",
    "                shapes.append(p.intersection(self.tile_box))\n",
    "                labels.append(l)\n",
    "        return (shapes, labels)\n",
    "        \n",
    "        \n",
    "    def get_tile_box(self, labels_ew, labels_swne, labels_nwse):\n",
    "        \"\"\"\n",
    "        Bounding polygon is a diamond with dimensions dependendent on the spacings and numbers of ribbons\n",
    "        \"\"\"\n",
    "        # here the number of ribbons in each direction is\n",
    "        # just the length of the label lists\n",
    "        n_ew = len(labels_ew)\n",
    "        n_swne = max(n_ew, len(labels_swne))\n",
    "        n_nwse = max(n_ew, len(labels_nwse))\n",
    "        pts = [(-n_ew * 3 / 2, -math.sqrt(3) / 2)]\n",
    "        bearings = [math.pi / 3 * n for n in [-1, 1, 2]]\n",
    "        for i in range(1, 4):\n",
    "            ang = bearings[i - 1]\n",
    "            pts.append((pts[i - 1][0] + n_swne * self.s_swne * math.cos(ang),\n",
    "                        pts[i - 1][1] + n_swne * self.s_swne * math.sin(ang)))\n",
    "        return Polygon(pts)\n",
    "    \n",
    "\n",
    "    def get_primitive_cell(self):\n",
    "        \"\"\"\n",
    "        Make and return a Primitive_Cell from the shapes and bounding shape\n",
    "        \"\"\"\n",
    "        c_bb = self.tile_box.centroid\n",
    "        c_unit = unary_union(self.shapes).centroid\n",
    "        types = [\"bounding_polygon\"]\n",
    "        shapes = [self.tile_box]\n",
    "        labels = [\"bb\"]\n",
    "        for s, label in zip(w.shapes, w.labels):\n",
    "            if s.intersects(self.tile_box):\n",
    "                shapes.append(s.intersection(self.tile_box))\n",
    "                labels.append(label)\n",
    "                types.append(\"shape\")\n",
    "        return geopandas.GeoDataFrame(data = {\"label\": labels, \"type\": types},\n",
    "                                      geometry = geopandas.GeoSeries(shapes))"
   ]
  },
  {
   "cell_type": "code",
   "execution_count": 73,
   "metadata": {},
   "outputs": [],
   "source": [
    "w = Triangular_Weave()\n",
    "tile = w.get_primitive_cell()"
   ]
  },
  {
   "cell_type": "code",
   "execution_count": 75,
   "metadata": {},
   "outputs": [
    {
     "data": {
      "text/plain": [
       "<AxesSubplot:>"
      ]
     },
     "execution_count": 75,
     "metadata": {},
     "output_type": "execute_result"
    },
    {
     "data": {
      "image/png": "[encoded data removed]",
      "text/plain": [
       "<Figure size 432x288 with 1 Axes>"
      ]
     },
     "metadata": {
      "needs_background": "light"
     },
     "output_type": "display_data"
    }
   ],
   "source": [
    "tile.plot(column = \"label\", alpha = 0.5)"
   ]
  },
  {
   "cell_type": "code",
   "execution_count": 74,
   "metadata": {},
   "outputs": [],
   "source": [
    "tile.to_file(\"tile.geojson\", driver = \"GeoJSON\")"
   ]
  },
  {
   "cell_type": "markdown",
   "metadata": {},
   "source": [
    "## Possible tiling code\n",
    "But this is hard to use and MMGIS does the needful anyway.\n",
    "\n",
    "Won't work with updated `Weave` class... due to the extra 'buffer' polygons."
   ]
  },
  {
   "cell_type": "code",
   "execution_count": null,
   "metadata": {},
   "outputs": [],
   "source": [
    "def tile(w, minx = -30, miny = -30, maxx = 30, maxy = 30, rotation = 0):\n",
    "    tiling_w = maxx - minx\n",
    "    tiling_h = maxy - miny\n",
    "    bb = unary_union(w.shapes).bounds\n",
    "    width = bb[2] - bb[0]\n",
    "    height = bb[3] - bb[1]\n",
    "    repeats_h = math.ceil(tiling_w / width)\n",
    "    repeats_v = math.ceil(tiling_h / height)\n",
    "    total_w = repeats_h * width\n",
    "    total_h = repeats_v * height\n",
    "    origin_offset_x = (minx - (total_w - tiling_w) / 2) - bb[0]\n",
    "    origin_offset_y = (miny - (total_h - tiling_h) / 2) - bb[1]\n",
    "    template = []\n",
    "    for s in deepcopy(w.shapes):\n",
    "        template.append(translate(s, origin_offset_x, origin_offset_y))\n",
    "    shapes = []\n",
    "    for col in range(repeats_h):\n",
    "        for row in range(repeats_v):\n",
    "            for t in template:\n",
    "                shapes.append(translate(deepcopy(t), w.dx * col, w.dy * row))\n",
    "    labels = w.labels * (repeats_h * repeats_v)\n",
    "    return geopandas.GeoDataFrame(data = {\"label\": labels}, geometry = geopandas.GeoSeries(shapes))"
   ]
  },
  {
   "cell_type": "code",
   "execution_count": 180,
   "metadata": {},
   "outputs": [],
   "source": [
    "t = tile(w)"
   ]
  },
  {
   "cell_type": "code",
   "execution_count": 181,
   "metadata": {},
   "outputs": [
    {
     "data": {
      "text/plain": [
       "<AxesSubplot:>"
      ]
     },
     "execution_count": 181,
     "metadata": {},
     "output_type": "execute_result"
    },
    {
     "data": {
      "image/png": "[encoded data removed]",
      "text/plain": [
       "<Figure size 432x288 with 1 Axes>"
      ]
     },
     "metadata": {
      "needs_background": "light"
     },
     "output_type": "display_data"
    }
   ],
   "source": [
    "t.plot(column = \"label\")"
   ]
  },
  {
   "cell_type": "code",
   "execution_count": 178,
   "metadata": {},
   "outputs": [],
   "source": [
    "t.to_file(\"weave.gpkg\", driver = \"GPKG\")"
   ]
  },
  {
   "cell_type": "code",
   "execution_count": 48,
   "metadata": {},
   "outputs": [
    {
     "data": {
      "text/plain": [
       "0    POLYGON ((-1.50000 -0.50000, 1.50000 -0.50000,...\n",
       "1    POLYGON ((0.50000 -0.50000, 3.50000 -0.50000, ...\n",
       "2    POLYGON ((-0.50000 0.50000, 2.50000 0.50000, 2...\n",
       "3    POLYGON ((-0.50000 0.50000, 2.50000 0.50000, 2...\n",
       "Name: geometry, dtype: geometry"
      ]
     },
     "execution_count": 48,
     "metadata": {},
     "output_type": "execute_result"
    }
   ],
   "source": [
    "gdf.geometry"
   ]
  },
  {
   "cell_type": "code",
   "execution_count": 62,
   "metadata": {},
   "outputs": [
    {
     "data": {
      "text/plain": [
       "'5'"
      ]
     },
     "execution_count": 62,
     "metadata": {},
     "output_type": "execute_result"
    }
   ],
   "source": [
    "str(5)"
   ]
  },
  {
   "cell_type": "code",
   "execution_count": 43,
   "metadata": {},
   "outputs": [
    {
     "data": {
      "text/plain": [
       "3"
      ]
     },
     "execution_count": 43,
     "metadata": {},
     "output_type": "execute_result"
    }
   ],
   "source": [
    "max(1, 2, 3)"
   ]
  },
  {
   "cell_type": "code",
   "execution_count": null,
   "metadata": {},
   "outputs": [],
   "source": []
  }
 ],
 "metadata": {
  "kernelspec": {
   "display_name": "Python 3",
   "language": "python",
   "name": "python3"
  },
  "language_info": {
   "codemirror_mode": {
    "name": "ipython",
    "version": 3
   },
   "file_extension": ".py",
   "mimetype": "text/x-python",
   "name": "python",
   "nbconvert_exporter": "python",
   "pygments_lexer": "ipython3",
   "version": "3.8.2"
  }
 },
 "nbformat": 4,
 "nbformat_minor": 4
}
