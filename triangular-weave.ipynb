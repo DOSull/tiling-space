{
 "cells": [
  {
   "cell_type": "code",
   "execution_count": 3,
   "metadata": {},
   "outputs": [],
   "source": [
    "%matplotlib inline\n",
    "\n",
    "import geopandas\n",
    "from shapely.geometry import Polygon\n",
    "from shapely.geometry import box\n",
    "from shapely.affinity import translate\n",
    "from shapely.affinity import rotate\n",
    "from shapely.ops import unary_union\n",
    "\n",
    "from copy import deepcopy\n",
    "import math"
   ]
  },
  {
   "cell_type": "markdown",
   "metadata": {},
   "source": [
    "# Triangular weave\n",
    "This code will make a diamond shaped unit that can be tiled to make a triangular weave pattern."
   ]
  },
  {
   "cell_type": "code",
   "execution_count": 201,
   "metadata": {},
   "outputs": [],
   "source": [
    "class Triangular_Weave():\n",
    "    \n",
    "    \"\"\"\n",
    "    Class to store the properties of a triangular weave tile that can be repeated in a diamond\n",
    "    pattern.\n",
    "\n",
    "    Members\n",
    "    -------\n",
    "        W, S, L: width, spacing, and length of exposed ribbons\n",
    "        shapes: a list of shapely.geometry.Polygons forming the weave\n",
    "        labels: a list of labels for the shapes\n",
    "        tile_box: a diamond Polygon that exactly contains a primitive cell\n",
    "        translations: the translations that define the tiling\n",
    "    \"\"\"\n",
    "    def __init__(self, width = 1, spacing = 3, \n",
    "                 labels = [\"A\", \"B\", \"C\"], \n",
    "                 margin = 0):\n",
    "        \"\"\"\n",
    "        Class constructor, parameters as above except:\n",
    "        margin: an inset margin to give a spacing effect where ribbons seem to over-under one another\n",
    "        \"\"\"\n",
    "        self.W = width\n",
    "        self.S = spacing\n",
    "        self.L = self.S - self.W\n",
    "        self.translations = [(0, 0),\n",
    "                             (self.S / 2, -self.S * math.sqrt(3) / 2),\n",
    "                             (self.S, 0),\n",
    "                             (self.S / 2, self.S * math.sqrt(3) / 2)]\n",
    "        self.tile_box = self.get_tile_box()\n",
    "        self.shapes, self.labels = self.get_shapes_and_labels(labels, margin)\n",
    "        \n",
    "    \n",
    "    def get_shapes_and_labels(self, labels, m):\n",
    "        \"\"\"\n",
    "        Returns the list of shapes and labels\n",
    "        \"\"\"\n",
    "        # base parallelogram\n",
    "        base_p = Polygon([(0, 0), \n",
    "                          (self.L, 0), \n",
    "                          (self.L - self.W / 2, self.W * math.sqrt(3) / 2), \n",
    "                          (-self.W / 2, self.W * math.sqrt(3) / 2)]).buffer(-m, cap_style = 2)\n",
    "        \n",
    "        # make 3 copies at 120 degree rotations, and also apply the translation vectors\n",
    "        base_ew = [translate(deepcopy(base_p), t[0], t[1]) for t in self.translations]\n",
    "        base_swne = [translate(rotate(deepcopy(base_p), -120, (0, 0)), t[0], t[1]) for t in self.translations]\n",
    "        base_nwse = [translate(rotate(deepcopy(base_p), 120, (0, 0)), t[0], t[1]) for t in self.translations]\n",
    "        \n",
    "        # make full list of all shapes and corresponding labels\n",
    "        shps = base_ew + base_swne + base_nwse\n",
    "        lbls = labels[0] * 4 + labels[1] * 4 + labels[2] * 4\n",
    "        # empty lists for final result\n",
    "        shapes = []\n",
    "        labels = []\n",
    "        # now test if they intersect the primitive cell and if so retain that\n",
    "        # discarding point intersections\n",
    "        for p, l in zip(shps, lbls):\n",
    "            if self.tile_box.intersects(p):\n",
    "                prototile = p.intersection(self.tile_box)\n",
    "                if isinstance(prototile, Polygon):\n",
    "                    shapes.append(prototile)\n",
    "                    labels.append(l)\n",
    "        return (shapes, labels)\n",
    "        \n",
    "        \n",
    "    def get_tile_box(self):\n",
    "        \"\"\"\n",
    "        Bounding polygon is a diamond with dimensions dependendent on the spacings and numbers of ribbons\n",
    "        \"\"\"\n",
    "        return Polygon(self.translations)\n",
    "    \n",
    "    \n",
    "\n",
    "    def get_primitive_cell(self):\n",
    "        \"\"\"\n",
    "        Make and return a Primitive_Cell from the shapes and bounding shape\n",
    "        \"\"\"\n",
    "        c_bb = self.tile_box.centroid\n",
    "        c_unit = unary_union(self.shapes).centroid\n",
    "        types = [\"bounding_polygon\"]\n",
    "        shapes = [self.tile_box]\n",
    "        labels = [\"bb\"]\n",
    "        for s, label in zip(self.shapes, self.labels):\n",
    "            shapes.append(s)\n",
    "            labels.append(label)\n",
    "            types.append(\"shape\")\n",
    "        return geopandas.GeoDataFrame(data = {\"label\": labels, \"type\": types},\n",
    "                                      geometry = geopandas.GeoSeries(shapes))"
   ]
  },
  {
   "cell_type": "code",
   "execution_count": 206,
   "metadata": {},
   "outputs": [
    {
     "data": {
      "text/plain": [
       "<AxesSubplot:>"
      ]
     },
     "execution_count": 206,
     "metadata": {},
     "output_type": "execute_result"
    },
    {
     "data": {
      "image/png": "[encoded data removed]",
      "text/plain": [
       "<Figure size 432x288 with 1 Axes>"
      ]
     },
     "metadata": {
      "needs_background": "light"
     },
     "output_type": "display_data"
    }
   ],
   "source": [
    "w = Triangular_Weave(spacing = 2, margin = 0.05)\n",
    "\n",
    "tile = w.get_primitive_cell()\n",
    "tile.plot(column = \"label\", alpha = 0.5)"
   ]
  },
  {
   "cell_type": "code",
   "execution_count": 172,
   "metadata": {},
   "outputs": [],
   "source": [
    "tile.to_file(\"tile.geojson\", driver = \"GeoJSON\")"
   ]
  },
  {
   "cell_type": "code",
   "execution_count": null,
   "metadata": {},
   "outputs": [],
   "source": []
  }
 ],
 "metadata": {
  "kernelspec": {
   "display_name": "Python 3",
   "language": "python",
   "name": "python3"
  },
  "language_info": {
   "codemirror_mode": {
    "name": "ipython",
    "version": 3
   },
   "file_extension": ".py",
   "mimetype": "text/x-python",
   "name": "python",
   "nbconvert_exporter": "python",
   "pygments_lexer": "ipython3",
   "version": "3.8.2"
  }
 },
 "nbformat": 4,
 "nbformat_minor": 4
}
