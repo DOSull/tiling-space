{
 "cells": [
  {
   "cell_type": "code",
   "execution_count": 194,
   "metadata": {},
   "outputs": [
    {
     "ename": "ImportError",
     "evalue": "cannot import name 'intersection' from 'shapely.ops' (/home/osullid3/anaconda3/envs/tiling/lib/python3.8/site-packages/shapely/ops.py)",
     "output_type": "error",
     "traceback": [
      "\u001b[0;31m---------------------------------------------------------------------------\u001b[0m",
      "\u001b[0;31mImportError\u001b[0m                               Traceback (most recent call last)",
      "\u001b[0;32m<ipython-input-194-2f01d3a49497>\u001b[0m in \u001b[0;36m<module>\u001b[0;34m\u001b[0m\n\u001b[1;32m      7\u001b[0m \u001b[0;32mfrom\u001b[0m \u001b[0mshapely\u001b[0m\u001b[0;34m.\u001b[0m\u001b[0maffinity\u001b[0m \u001b[0;32mimport\u001b[0m \u001b[0mrotate\u001b[0m\u001b[0;34m\u001b[0m\u001b[0;34m\u001b[0m\u001b[0m\n\u001b[1;32m      8\u001b[0m \u001b[0;32mfrom\u001b[0m \u001b[0mshapely\u001b[0m\u001b[0;34m.\u001b[0m\u001b[0mops\u001b[0m \u001b[0;32mimport\u001b[0m \u001b[0munary_union\u001b[0m\u001b[0;34m\u001b[0m\u001b[0;34m\u001b[0m\u001b[0m\n\u001b[0;32m----> 9\u001b[0;31m \u001b[0;32mfrom\u001b[0m \u001b[0mshapely\u001b[0m\u001b[0;34m.\u001b[0m\u001b[0mops\u001b[0m \u001b[0;32mimport\u001b[0m \u001b[0mintersection\u001b[0m\u001b[0;34m\u001b[0m\u001b[0;34m\u001b[0m\u001b[0m\n\u001b[0m\u001b[1;32m     10\u001b[0m \u001b[0;34m\u001b[0m\u001b[0m\n\u001b[1;32m     11\u001b[0m \u001b[0;32mfrom\u001b[0m \u001b[0mcopy\u001b[0m \u001b[0;32mimport\u001b[0m \u001b[0mdeepcopy\u001b[0m\u001b[0;34m\u001b[0m\u001b[0;34m\u001b[0m\u001b[0m\n",
      "\u001b[0;31mImportError\u001b[0m: cannot import name 'intersection' from 'shapely.ops' (/home/osullid3/anaconda3/envs/tiling/lib/python3.8/site-packages/shapely/ops.py)"
     ]
    }
   ],
   "source": [
    "%matplotlib inline\n",
    "\n",
    "import geopandas\n",
    "from shapely.geometry import Polygon\n",
    "from shapely.geometry import box\n",
    "from shapely.affinity import translate\n",
    "from shapely.affinity import rotate\n",
    "from shapely.ops import unary_union\n",
    "from shapely.ops import intersection\n",
    "\n",
    "from copy import deepcopy\n",
    "import math"
   ]
  },
  {
   "cell_type": "code",
   "execution_count": 205,
   "metadata": {},
   "outputs": [],
   "source": [
    "class Weave_Unit():\n",
    "    \n",
    "    def __init__(self, wh=1, sh=1.5, wv=2, sv=2, labelsh=[1], labelsv=[2]):\n",
    "        self.wh = wh\n",
    "        self.sh = sh\n",
    "        self.wv = wv\n",
    "        self.sv = sv\n",
    "        self.labelsh = labelsh\n",
    "        self.labelsv = labelsv\n",
    "        self.shapes, self.labels = self.get_shapes()\n",
    "        self.dx, self.dy = self.get_vector()\n",
    "        \n",
    "    def get_shapes(self):\n",
    "        polys = []\n",
    "        labels = []\n",
    "        \n",
    "        lh = 2 * self.sv - self.wv\n",
    "        lv = 2 * self.sh - self.wh\n",
    "        \n",
    "        base_ph = Polygon([(-lh/2, -self.wh/2), (lh/2, -self.wh/2), (lh/2, self.wh/2), (-lh/2, self.wh/2)])\n",
    "        base_pv = Polygon([(-self.wv/2, -lv/2), (-self.wv/2, lv/2), (self.wv/2, lv/2), (self.wv/2, -lv/2)])\n",
    "        \n",
    "        nh = len(self.labelsh)\n",
    "        nv = len(self.labelsv)\n",
    "        \n",
    "        for row in range(-1, len(self.labelsh) * 2 + 1):\n",
    "            for col in range(-1, len(self.labelsv) * 2 + 1):\n",
    "                poly = deepcopy(base_ph) if (col + row) % 2 == 0 else deepcopy(base_pv)\n",
    "                polys.append(translate(poly, xoff = col * self.sv, yoff = row * self.sh))\n",
    "                label = self.labelsh[row % nh] if (col + row) % 2 == 0 else self.labelsv[col % nv]\n",
    "                labels.append(label)\n",
    "        return (polys, labels)\n",
    "        \n",
    "    def get_vector(self):\n",
    "        return (2 * len(self.labelsv) * self.sv,\n",
    "                2 * len(self.labelsh) * self.sh)\n",
    "    \n",
    "    def get_tile(self):\n",
    "        bb = box(0, 0, self.dx, self.dy)\n",
    "        c_bb = bb.centroid\n",
    "        c_w = unary_union(self.shapes).centroid\n",
    "        bb = translate(bb, c_w.x - c_bb.x, c_w.y - c_bb.y)\n",
    "        shapes = []\n",
    "        labels = []\n",
    "        for s, label in zip(w.shapes, w.labels):\n",
    "            if s.intersects(bb):\n",
    "                shapes.append(s.intersection(bb))\n",
    "                labels.append(label)\n",
    "        return {\"shapes\": shapes, \"labels\": labels}\n",
    "    "
   ]
  },
  {
   "cell_type": "code",
   "execution_count": 206,
   "metadata": {},
   "outputs": [],
   "source": [
    "w = Weave_Unit(wh = 1, sh = 1.5, wv = 0.9, sv = 1.25, labelsh = [1, 2], labelsv = [5, 6, 7])"
   ]
  },
  {
   "cell_type": "code",
   "execution_count": 207,
   "metadata": {},
   "outputs": [],
   "source": [
    "tile = w.get_tile()"
   ]
  },
  {
   "cell_type": "code",
   "execution_count": 208,
   "metadata": {},
   "outputs": [],
   "source": [
    "gdf = geopandas.GeoDataFrame(data = {\"label\": tile[\"labels\"]}, geometry = geopandas.GeoSeries(tile[\"shapes\"]))"
   ]
  },
  {
   "cell_type": "code",
   "execution_count": 209,
   "metadata": {},
   "outputs": [
    {
     "data": {
      "text/plain": [
       "<AxesSubplot:>"
      ]
     },
     "execution_count": 209,
     "metadata": {},
     "output_type": "execute_result"
    },
    {
     "data": {
      "image/png": "[encoded data removed]",
      "text/plain": [
       "<Figure size 432x288 with 1 Axes>"
      ]
     },
     "metadata": {
      "needs_background": "light"
     },
     "output_type": "display_data"
    }
   ],
   "source": [
    "gdf.plot(column = \"label\", alpha = 0.5)"
   ]
  },
  {
   "cell_type": "code",
   "execution_count": 210,
   "metadata": {},
   "outputs": [],
   "source": [
    "gdf.to_file(\"tile.geojson\", driver = \"GeoJSON\")"
   ]
  },
  {
   "cell_type": "markdown",
   "metadata": {},
   "source": [
    "## Possible tiling code"
   ]
  },
  {
   "cell_type": "code",
   "execution_count": null,
   "metadata": {},
   "outputs": [],
   "source": [
    "def tile(w, minx = -30, miny = -30, maxx = 30, maxy = 30, rotation = 0):\n",
    "    tiling_w = maxx - minx\n",
    "    tiling_h = maxy - miny\n",
    "    bb = unary_union(w.shapes).bounds\n",
    "    width = bb[2] - bb[0]\n",
    "    height = bb[3] - bb[1]\n",
    "    repeats_h = math.ceil(tiling_w / width)\n",
    "    repeats_v = math.ceil(tiling_h / height)\n",
    "    total_w = repeats_h * width\n",
    "    total_h = repeats_v * height\n",
    "    origin_offset_x = (minx - (total_w - tiling_w) / 2) - bb[0]\n",
    "    origin_offset_y = (miny - (total_h - tiling_h) / 2) - bb[1]\n",
    "    template = []\n",
    "    for s in deepcopy(w.shapes):\n",
    "        template.append(translate(s, origin_offset_x, origin_offset_y))\n",
    "    shapes = []\n",
    "    for col in range(repeats_h):\n",
    "        for row in range(repeats_v):\n",
    "            for t in template:\n",
    "                shapes.append(translate(deepcopy(t), w.dx * col, w.dy * row))\n",
    "    labels = w.labels * (repeats_h * repeats_v)\n",
    "    return geopandas.GeoDataFrame(data = {\"label\": labels}, geometry = geopandas.GeoSeries(shapes))"
   ]
  },
  {
   "cell_type": "code",
   "execution_count": 180,
   "metadata": {},
   "outputs": [],
   "source": [
    "t = tile(w)"
   ]
  },
  {
   "cell_type": "code",
   "execution_count": 181,
   "metadata": {},
   "outputs": [
    {
     "data": {
      "text/plain": [
       "<AxesSubplot:>"
      ]
     },
     "execution_count": 181,
     "metadata": {},
     "output_type": "execute_result"
    },
    {
     "data": {
      "image/png": "[encoded data removed]",
      "text/plain": [
       "<Figure size 432x288 with 1 Axes>"
      ]
     },
     "metadata": {
      "needs_background": "light"
     },
     "output_type": "display_data"
    }
   ],
   "source": [
    "t.plot(column = \"label\")"
   ]
  },
  {
   "cell_type": "code",
   "execution_count": 178,
   "metadata": {},
   "outputs": [],
   "source": [
    "t.to_file(\"weave.gpkg\", driver = \"GPKG\")"
   ]
  },
  {
   "cell_type": "code",
   "execution_count": 48,
   "metadata": {},
   "outputs": [
    {
     "data": {
      "text/plain": [
       "0    POLYGON ((-1.50000 -0.50000, 1.50000 -0.50000,...\n",
       "1    POLYGON ((0.50000 -0.50000, 3.50000 -0.50000, ...\n",
       "2    POLYGON ((-0.50000 0.50000, 2.50000 0.50000, 2...\n",
       "3    POLYGON ((-0.50000 0.50000, 2.50000 0.50000, 2...\n",
       "Name: geometry, dtype: geometry"
      ]
     },
     "execution_count": 48,
     "metadata": {},
     "output_type": "execute_result"
    }
   ],
   "source": [
    "gdf.geometry"
   ]
  },
  {
   "cell_type": "code",
   "execution_count": null,
   "metadata": {},
   "outputs": [],
   "source": []
  }
 ],
 "metadata": {
  "kernelspec": {
   "display_name": "Python 3",
   "language": "python",
   "name": "python3"
  },
  "language_info": {
   "codemirror_mode": {
    "name": "ipython",
    "version": 3
   },
   "file_extension": ".py",
   "mimetype": "text/x-python",
   "name": "python",
   "nbconvert_exporter": "python",
   "pygments_lexer": "ipython3",
   "version": "3.8.2"
  }
 },
 "nbformat": 4,
 "nbformat_minor": 4
}
