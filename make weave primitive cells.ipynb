{
 "cells": [
  {
   "cell_type": "code",
   "execution_count": 42,
   "metadata": {},
   "outputs": [],
   "source": [
    "%matplotlib inline\n",
    "\n",
    "import geopandas\n",
    "from shapely.geometry import Polygon\n",
    "from shapely.geometry import box\n",
    "from shapely.affinity import translate\n",
    "from shapely.affinity import rotate\n",
    "from shapely.ops import unary_union\n",
    "\n",
    "from copy import deepcopy\n",
    "import math"
   ]
  },
  {
   "cell_type": "code",
   "execution_count": 69,
   "metadata": {},
   "outputs": [],
   "source": [
    "class Weave():\n",
    "    \"\"\"\n",
    "    Class to store the properties of an 'over-under' weave that can be repeated in a rectangular\n",
    "    pattern. Provided lists of labels will determine dimensions of the primitive. Because the \n",
    "    primitive is\n",
    "    \n",
    "       --- |\n",
    "        \n",
    "        | ---\n",
    "        \n",
    "    layout the dimension will be twice the length of these lists in each direction.\n",
    "\n",
    "    Members\n",
    "    -------\n",
    "        wh: width of the horizontal 'ribbons'\n",
    "        sh: (vertical) spacing of the horizontal 'ribbons' sh >= wh\n",
    "        wv: width of the vertical 'ribbons'\n",
    "        sv: (horizontal) spacing of the vertical 'ribbons' sv >= wv \n",
    "        shapes: a list of rectangular shapely.geometry.Polygons forming the weave\n",
    "        labels: a list of labels in the same order as the shapes\n",
    "        tile_box: a rectangular Polygon that exactly contains the primitive cell\n",
    "    \"\"\"\n",
    "    def __init__(self, wh=1, sh=1.5, wv=2, sv=2, labelsh=[\"h1\"], labelsv=[\"v1\"]):\n",
    "        \"\"\"\n",
    "        Class constructor, parameters as above except:\n",
    "        labelsh: labels of the horizontal ribbons\n",
    "        labelsv: labels of the vertical ribbons\n",
    "        \"\"\"\n",
    "        self.wh = wh\n",
    "        self.sh = sh\n",
    "        self.wv = wv\n",
    "        self.sv = sv\n",
    "        self.shapes, self.labels = self.get_shapes_and_labels(labelsh, labelsv)\n",
    "        self.tile_box = self.get_tile_box(labelsh, labelsv)\n",
    "        \n",
    "    def get_shapes_and_labels(self, labelsh, labelsv):\n",
    "        \"\"\"\n",
    "        Returns the list of shapes and labels\n",
    "        \n",
    "        Parameters:\n",
    "        labelsh: labels for the horizontal ribbons\n",
    "        labelsv: labels for the vertical ribbons\n",
    "        \"\"\"\n",
    "        # length of the horizontal and vertical ribbons calculated from \n",
    "        # the spacing and width of the other direction\n",
    "        lh = 2 * self.sv - self.wv\n",
    "        lv = 2 * self.sh - self.wh\n",
    "        \n",
    "        # base rectangles for the two directions of length calculated, \n",
    "        # and the classwidth just calculated\n",
    "        base_ph = Polygon([(-lh/2, -self.wh/2), (lh/2, -self.wh/2), (lh/2, self.wh/2), (-lh/2, self.wh/2)])\n",
    "        base_pv = Polygon([(-self.wv/2, -lv/2), (-self.wv/2, lv/2), (self.wv/2, lv/2), (self.wv/2, -lv/2)])\n",
    "        \n",
    "        polys = []\n",
    "        labels = []\n",
    "        \n",
    "        n_ribbonsh = 2 * len(labelsh) + 2\n",
    "        n_ribbonsv = 2 * len(labelsv) + 2\n",
    "        # make an extra 'buffer set of rectangles all around \n",
    "        # i.e. from -1 to 2 * the length of the label lists\n",
    "        for row in range(n_ribbonsh):\n",
    "            # vertical translation given by the row number\n",
    "            dy = row * self.sh\n",
    "            for col in range(n_ribbonsv):\n",
    "                # horizontal translation given by the col number\n",
    "                dx = col * self.sv\n",
    "                # alternating horizontal and vertical polygons required\n",
    "                if (col + row) % 2 == 0:\n",
    "                    polys.append(translate(deepcopy(base_ph), dx, dy))\n",
    "                    labels.append(labelsh[row % len(labelsh)])\n",
    "                else:\n",
    "                    polys.append(translate(deepcopy(base_pv), dx, dy))\n",
    "                    labels.append(labelsv[col % len(labelsv)])\n",
    "        return (polys, labels)\n",
    "        \n",
    "        \n",
    "    def get_tile_box(self, labelsh, labelsv):\n",
    "        \"\"\"\n",
    "        Bounding box is a rectangle with dimensions given by the spacings\n",
    "        \"\"\"\n",
    "        # here the number of ribbons in each direction is\n",
    "        # just two times the length of the label lists\n",
    "        n_ribbonsh = 2 * len(labelsh)\n",
    "        n_ribbonsv = 2 * len(labelsv)\n",
    "        return box(0, 0, n_ribbonsv * self.sv, n_ribbonsh * self.sh)\n",
    "    \n",
    "\n",
    "    def get_primitive_cell(self):\n",
    "        \"\"\"\n",
    "        Make and return a Primitive_Cell from the shapes and bounding shape\n",
    "        \"\"\"\n",
    "        c_bb = self.tile_box.centroid\n",
    "        c_unit = unary_union(self.shapes).centroid\n",
    "        bb = translate(self.tile_box, c_unit.x - c_bb.x, c_unit.y - c_bb.y)\n",
    "        shapes = []\n",
    "        labels = []\n",
    "        for s, label in zip(w.shapes, w.labels):\n",
    "            if s.intersects(self.tile_box):\n",
    "                shapes.append(s.intersection(self.tile_box))\n",
    "                labels.append(label)\n",
    "        return Primitive_Cell(shapes, labels, self.tile_box)"
   ]
  },
  {
   "cell_type": "code",
   "execution_count": 70,
   "metadata": {},
   "outputs": [],
   "source": [
    "class Primitive_Cell():\n",
    "    \n",
    "    def __init__(self, shapes, labels, bbox):\n",
    "        self.shapes = shapes + [bbox]\n",
    "        self.labels = labels + [\"bb\"]\n",
    "        self.types = ([\"shape\"] * len(labels)) + [\"bounding_polygon\"] \n",
    "        self.tile_box = bbox\n",
    "    \n",
    "    def to_gdf(self):\n",
    "        return geopandas.GeoDataFrame(data = {\"label\": self.labels, \n",
    "                                              \"type\": self.types},\n",
    "                                     geometry = geopandas.GeoSeries(self.shapes))        \n"
   ]
  },
  {
   "cell_type": "code",
   "execution_count": 88,
   "metadata": {},
   "outputs": [],
   "source": [
    "w = Weave(wh = 1, sh = 1.5, wv = 0.9, sv = 1.25, labelsh = [\"h1\", \"h2\"], labelsv = [\"v1\", \"v2\", \"v3\"])"
   ]
  },
  {
   "cell_type": "code",
   "execution_count": 89,
   "metadata": {},
   "outputs": [],
   "source": [
    "tile = w.get_primitive_cell().to_gdf()"
   ]
  },
  {
   "cell_type": "code",
   "execution_count": 90,
   "metadata": {},
   "outputs": [
    {
     "data": {
      "text/plain": [
       "<AxesSubplot:>"
      ]
     },
     "execution_count": 90,
     "metadata": {},
     "output_type": "execute_result"
    },
    {
     "data": {
      "image/png": "[encoded data removed]",
      "text/plain": [
       "<Figure size 432x288 with 1 Axes>"
      ]
     },
     "metadata": {
      "needs_background": "light"
     },
     "output_type": "display_data"
    }
   ],
   "source": [
    "tile.plot(column = \"label\", alpha = 0.25)"
   ]
  },
  {
   "cell_type": "code",
   "execution_count": 91,
   "metadata": {},
   "outputs": [],
   "source": [
    "tile.to_file(\"tile.geojson\", driver = \"GeoJSON\")"
   ]
  },
  {
   "cell_type": "markdown",
   "metadata": {},
   "source": [
    "## Possible tiling code\n",
    "But this is hard to use and MMGIS does the needful anyway.\n",
    "\n",
    "Won't work with updated `Weave` class... due to the extra 'buffer' polygons."
   ]
  },
  {
   "cell_type": "code",
   "execution_count": null,
   "metadata": {},
   "outputs": [],
   "source": [
    "def tile(w, minx = -30, miny = -30, maxx = 30, maxy = 30, rotation = 0):\n",
    "    tiling_w = maxx - minx\n",
    "    tiling_h = maxy - miny\n",
    "    bb = unary_union(w.shapes).bounds\n",
    "    width = bb[2] - bb[0]\n",
    "    height = bb[3] - bb[1]\n",
    "    repeats_h = math.ceil(tiling_w / width)\n",
    "    repeats_v = math.ceil(tiling_h / height)\n",
    "    total_w = repeats_h * width\n",
    "    total_h = repeats_v * height\n",
    "    origin_offset_x = (minx - (total_w - tiling_w) / 2) - bb[0]\n",
    "    origin_offset_y = (miny - (total_h - tiling_h) / 2) - bb[1]\n",
    "    template = []\n",
    "    for s in deepcopy(w.shapes):\n",
    "        template.append(translate(s, origin_offset_x, origin_offset_y))\n",
    "    shapes = []\n",
    "    for col in range(repeats_h):\n",
    "        for row in range(repeats_v):\n",
    "            for t in template:\n",
    "                shapes.append(translate(deepcopy(t), w.dx * col, w.dy * row))\n",
    "    labels = w.labels * (repeats_h * repeats_v)\n",
    "    return geopandas.GeoDataFrame(data = {\"label\": labels}, geometry = geopandas.GeoSeries(shapes))"
   ]
  },
  {
   "cell_type": "code",
   "execution_count": 180,
   "metadata": {},
   "outputs": [],
   "source": [
    "t = tile(w)"
   ]
  },
  {
   "cell_type": "code",
   "execution_count": 181,
   "metadata": {},
   "outputs": [
    {
     "data": {
      "text/plain": [
       "<AxesSubplot:>"
      ]
     },
     "execution_count": 181,
     "metadata": {},
     "output_type": "execute_result"
    },
    {
     "data": {
      "image/png": "[encoded data removed]",
      "text/plain": [
       "<Figure size 432x288 with 1 Axes>"
      ]
     },
     "metadata": {
      "needs_background": "light"
     },
     "output_type": "display_data"
    }
   ],
   "source": [
    "t.plot(column = \"label\")"
   ]
  },
  {
   "cell_type": "code",
   "execution_count": 178,
   "metadata": {},
   "outputs": [],
   "source": [
    "t.to_file(\"weave.gpkg\", driver = \"GPKG\")"
   ]
  },
  {
   "cell_type": "code",
   "execution_count": 48,
   "metadata": {},
   "outputs": [
    {
     "data": {
      "text/plain": [
       "0    POLYGON ((-1.50000 -0.50000, 1.50000 -0.50000,...\n",
       "1    POLYGON ((0.50000 -0.50000, 3.50000 -0.50000, ...\n",
       "2    POLYGON ((-0.50000 0.50000, 2.50000 0.50000, 2...\n",
       "3    POLYGON ((-0.50000 0.50000, 2.50000 0.50000, 2...\n",
       "Name: geometry, dtype: geometry"
      ]
     },
     "execution_count": 48,
     "metadata": {},
     "output_type": "execute_result"
    }
   ],
   "source": [
    "gdf.geometry"
   ]
  },
  {
   "cell_type": "code",
   "execution_count": 62,
   "metadata": {},
   "outputs": [
    {
     "data": {
      "text/plain": [
       "'5'"
      ]
     },
     "execution_count": 62,
     "metadata": {},
     "output_type": "execute_result"
    }
   ],
   "source": [
    "str(5)"
   ]
  },
  {
   "cell_type": "code",
   "execution_count": null,
   "metadata": {},
   "outputs": [],
   "source": []
  }
 ],
 "metadata": {
  "kernelspec": {
   "display_name": "Python 3",
   "language": "python",
   "name": "python3"
  },
  "language_info": {
   "codemirror_mode": {
    "name": "ipython",
    "version": 3
   },
   "file_extension": ".py",
   "mimetype": "text/x-python",
   "name": "python",
   "nbconvert_exporter": "python",
   "pygments_lexer": "ipython3",
   "version": "3.8.2"
  }
 },
 "nbformat": 4,
 "nbformat_minor": 4
}
